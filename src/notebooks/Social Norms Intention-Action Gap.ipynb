{
 "cells": [
  {
   "cell_type": "code",
   "execution_count": 1,
   "id": "84d0fea4",
   "metadata": {},
   "outputs": [],
   "source": [
    "from dataclasses import dataclass\n",
    "from pathlib import Path\n",
    "\n",
    "import missingno\n",
    "import pandas as pd\n",
    "import numpy as np\n",
    "import seaborn as sns\n",
    "import matplotlib.pyplot as plt"
   ]
  },
  {
   "cell_type": "code",
   "execution_count": 2,
   "id": "7bb80652",
   "metadata": {},
   "outputs": [],
   "source": [
    "DATA_DIR = Path.cwd().parent.parent / \"data\""
   ]
  },
  {
   "cell_type": "code",
   "execution_count": 3,
   "id": "3858caf8",
   "metadata": {},
   "outputs": [],
   "source": [
    "# Give things names for easy joining\n",
    "@dataclass\n",
    "class ColumnSpecs:\n",
    "    filename: str\n",
    "    question_of_interest: str\n",
    "    respondent_id: str\n",
    "    survey_name: str\n",
    "\n",
    "\n",
    "# Base outcome data\n",
    "base_specs = [\n",
    "    ColumnSpecs(\n",
    "        DATA_DIR\n",
    "        / \"Sixth_wave/TPL_Testing_Survey_SixthWave_YouGov_RI_with_past_IDs.sav\",\n",
    "        \"q120\",\n",
    "        \"caseid\",\n",
    "        \"sixth_ri\",\n",
    "    ),\n",
    "    ColumnSpecs(\n",
    "        DATA_DIR\n",
    "        / \"Sixth_wave/TPL_Testing_Survey_SixthWave_YouGov_US_with_past_IDs.sav\",\n",
    "        \"q120\",\n",
    "        \"caseid\",\n",
    "        \"sixth_us\",\n",
    "    ),\n",
    "]\n",
    "\n",
    "# Historic data we'll join to\n",
    "to_join_specs = [\n",
    "    ColumnSpecs(\n",
    "        DATA_DIR / \"Third_Wave/TPL_Testing_Survey_ThirdWave_YouGov.sav\",\n",
    "        \"q1\",\n",
    "        \"caseid_15\",\n",
    "        \"third\",\n",
    "    ),\n",
    "    ColumnSpecs(\n",
    "        DATA_DIR / \"Fourth_Wave/TPL_Testing_Survey_FourthWave_YouGov.sav\",\n",
    "        \"q1\",\n",
    "        \"caseid_16\",\n",
    "        \"fourth\",\n",
    "    ),\n",
    "    ColumnSpecs(\n",
    "        DATA_DIR / \"Seventh_wave/TPL_Testing_Survey_SeventhWave_YouGov.sav\",\n",
    "        \"q180\",\n",
    "        \"caseid_20\",\n",
    "        \"seventh\",\n",
    "    ),\n",
    "]"
   ]
  },
  {
   "cell_type": "code",
   "execution_count": 4,
   "id": "f0a3f6a0",
   "metadata": {},
   "outputs": [],
   "source": [
    "# Create a standard user_id based on historic data from sixth and seventh surveys\n",
    "\n",
    "id_dfs = []\n",
    "\n",
    "# Concatentate sixth survey files\n",
    "df = pd.read_spss(base_specs[0].filename)\n",
    "id_dfs.append(df[[\"caseid\", \"caseid_15\", \"caseid_16\", \"caseid_17\"]].astype(\"Int64\"))\n",
    "\n",
    "df = pd.read_spss(base_specs[1].filename)\n",
    "id_dfs.append(df[[\"caseid\", \"caseid_15\", \"caseid_16\", \"caseid_17\"]].astype(\"Int64\"))\n",
    "\n",
    "id_df = pd.concat(id_dfs)\n",
    "id_df.rename(columns={\"caseid\": \"caseid_19\"}, inplace=True)\n",
    "\n",
    "# Open seventh survey\n",
    "df = pd.read_spss(\"../../data/Seventh_wave/TPL_Testing_Survey_SeventhWave_YouGov.sav\")\n",
    "df[[col for col in df.columns if \"caseid\" in col]]\n",
    "\n",
    "# Check: at most one of caseid_19 is non-null\n",
    "assert (~(df[\"caseid_BROW0019_Nat\"].notna() & df[\"caseid_BROW0019_RI\"].notna())).all()\n",
    "df[\"caseid_19\"] = df[\"caseid_BROW0019_Nat\"].fillna(df[\"caseid_BROW0019_RI\"])\n",
    "df.drop(columns=[\"caseid_BROW0019_Nat\", \"caseid_BROW0019_RI\"], inplace=True)\n",
    "df.rename(columns={col: col.replace(\"BROW00\", \"\") for col in df}, inplace=True)\n",
    "df = df[[\"caseid\", \"caseid_15\", \"caseid_16\", \"caseid_17\", \"caseid_19\"]]\n",
    "for col in df:\n",
    "    if col.startswith(\"caseid\"):\n",
    "        df[col] = df[col].astype(\"Int64\")\n",
    "\n",
    "df.rename(columns={\"caseid\": \"caseid_20\"}, inplace=True)\n",
    "\n",
    "# Merge ids\n",
    "id_df = id_df.merge(df, on=\"caseid_19\", how=\"outer\", suffixes=[\"\", \"_x\"])\n",
    "\n",
    "# Make sure nothing funny happened between here and YouGov\n",
    "for col in id_df:\n",
    "    if f\"{col}_x\" in id_df:\n",
    "        assert (id_df[col] == id_df[f\"{col}_x\"]).all()\n",
    "\n",
    "id_df = id_df[[col for col in id_df if not col.endswith(\"_x\")]]"
   ]
  },
  {
   "cell_type": "code",
   "execution_count": 5,
   "id": "1c7e0252",
   "metadata": {},
   "outputs": [
    {
     "data": {
      "text/plain": [
       "<AxesSubplot:>"
      ]
     },
     "execution_count": 5,
     "metadata": {},
     "output_type": "execute_result"
    },
    {
     "data": {
      "image/png": "[encoded data removed]",
      "text/plain": [
       "<Figure size 1800x720 with 2 Axes>"
      ]
     },
     "metadata": {
      "needs_background": "light"
     },
     "output_type": "display_data"
    }
   ],
   "source": [
    "missingno.matrix(id_df)"
   ]
  },
  {
   "cell_type": "code",
   "execution_count": 6,
   "id": "012ea462",
   "metadata": {},
   "outputs": [],
   "source": [
    "# Merge in data\n",
    "\n",
    "dfs = []\n",
    "for spec in base_specs:\n",
    "    df = pd.read_spss(spec.filename)\n",
    "    df[\"caseid\"] = df[\"caseid\"].astype(\"Int64\")\n",
    "    df = df[[\"caseid\", spec.question_of_interest]].rename(\n",
    "        columns={\"caseid\": \"caseid_19\", spec.question_of_interest: \"sixth_answer\"}\n",
    "    )\n",
    "    dfs.append(df)\n",
    "\n",
    "data_df = id_df.merge(pd.concat(dfs), how=\"left\", on=\"caseid_19\")\n",
    "\n",
    "for spec in to_join_specs:\n",
    "    df = pd.read_spss(spec.filename)\n",
    "    df[[\"caseid\", spec.question_of_interest]]\n",
    "    df[\"caseid\"] = df[\"caseid\"].astype(\"Int64\")\n",
    "    df.rename(\n",
    "        columns={\n",
    "            \"caseid\": spec.respondent_id,\n",
    "            spec.question_of_interest: f\"{spec.survey_name}_answer\",\n",
    "        },\n",
    "        inplace=True,\n",
    "    )\n",
    "\n",
    "    data_df = data_df.merge(\n",
    "        df[[spec.respondent_id, f\"{spec.survey_name}_answer\"]],\n",
    "        on=spec.respondent_id,\n",
    "        how=\"left\",\n",
    "    )"
   ]
  },
  {
   "cell_type": "code",
   "execution_count": 7,
   "id": "f60dc9be",
   "metadata": {},
   "outputs": [
    {
     "data": {
      "text/html": [
       "<div>\n",
       "<style scoped>\n",
       "    .dataframe tbody tr th:only-of-type {\n",
       "        vertical-align: middle;\n",
       "    }\n",
       "\n",
       "    .dataframe tbody tr th {\n",
       "        vertical-align: top;\n",
       "    }\n",
       "\n",
       "    .dataframe thead th {\n",
       "        text-align: right;\n",
       "    }\n",
       "</style>\n",
       "<table border=\"1\" class=\"dataframe\">\n",
       "  <thead>\n",
       "    <tr style=\"text-align: right;\">\n",
       "      <th></th>\n",
       "      <th>caseid_19</th>\n",
       "      <th>caseid_15</th>\n",
       "      <th>caseid_16</th>\n",
       "      <th>caseid_17</th>\n",
       "      <th>caseid_20</th>\n",
       "      <th>sixth_answer</th>\n",
       "      <th>third_answer</th>\n",
       "      <th>fourth_answer</th>\n",
       "      <th>seventh_answer</th>\n",
       "    </tr>\n",
       "  </thead>\n",
       "  <tbody>\n",
       "    <tr>\n",
       "      <th>0</th>\n",
       "      <td>1619121243</td>\n",
       "      <td>1267124497</td>\n",
       "      <td>1308368411</td>\n",
       "      <td>1394204563</td>\n",
       "      <td>&lt;NA&gt;</td>\n",
       "      <td>Yes, got both doses of a two-dose vaccine  (Mo...</td>\n",
       "      <td>Definitely will</td>\n",
       "      <td>Definitely will</td>\n",
       "      <td>NaN</td>\n",
       "    </tr>\n",
       "    <tr>\n",
       "      <th>1</th>\n",
       "      <td>1619121269</td>\n",
       "      <td>1265155309</td>\n",
       "      <td>1300759427</td>\n",
       "      <td>1401653495</td>\n",
       "      <td>1719381813</td>\n",
       "      <td>Yes, got both doses of a two-dose vaccine  (Mo...</td>\n",
       "      <td>Definitely will</td>\n",
       "      <td>Definitely will</td>\n",
       "      <td>Yes, got both doses of a two-dose vaccine (Mod...</td>\n",
       "    </tr>\n",
       "    <tr>\n",
       "      <th>2</th>\n",
       "      <td>1619134793</td>\n",
       "      <td>1266377491</td>\n",
       "      <td>1299258531</td>\n",
       "      <td>1401653445</td>\n",
       "      <td>&lt;NA&gt;</td>\n",
       "      <td>Yes, got both doses of a two-dose vaccine  (Mo...</td>\n",
       "      <td>Maybe will</td>\n",
       "      <td>Not sure</td>\n",
       "      <td>NaN</td>\n",
       "    </tr>\n",
       "    <tr>\n",
       "      <th>3</th>\n",
       "      <td>1618564661</td>\n",
       "      <td>&lt;NA&gt;</td>\n",
       "      <td>&lt;NA&gt;</td>\n",
       "      <td>1398318671</td>\n",
       "      <td>1721078843</td>\n",
       "      <td>Yes, got both doses of a two-dose vaccine  (Mo...</td>\n",
       "      <td>NaN</td>\n",
       "      <td>NaN</td>\n",
       "      <td>Yes, got both doses of a two-dose vaccine (Mod...</td>\n",
       "    </tr>\n",
       "    <tr>\n",
       "      <th>4</th>\n",
       "      <td>1619148885</td>\n",
       "      <td>1266730067</td>\n",
       "      <td>&lt;NA&gt;</td>\n",
       "      <td>&lt;NA&gt;</td>\n",
       "      <td>&lt;NA&gt;</td>\n",
       "      <td>Yes, got both doses of a two-dose vaccine  (Mo...</td>\n",
       "      <td>Definitely will</td>\n",
       "      <td>NaN</td>\n",
       "      <td>NaN</td>\n",
       "    </tr>\n",
       "  </tbody>\n",
       "</table>\n",
       "</div>"
      ],
      "text/plain": [
       "    caseid_19   caseid_15   caseid_16   caseid_17   caseid_20  \\\n",
       "0  1619121243  1267124497  1308368411  1394204563        <NA>   \n",
       "1  1619121269  1265155309  1300759427  1401653495  1719381813   \n",
       "2  1619134793  1266377491  1299258531  1401653445        <NA>   \n",
       "3  1618564661        <NA>        <NA>  1398318671  1721078843   \n",
       "4  1619148885  1266730067        <NA>        <NA>        <NA>   \n",
       "\n",
       "                                        sixth_answer     third_answer  \\\n",
       "0  Yes, got both doses of a two-dose vaccine  (Mo...  Definitely will   \n",
       "1  Yes, got both doses of a two-dose vaccine  (Mo...  Definitely will   \n",
       "2  Yes, got both doses of a two-dose vaccine  (Mo...       Maybe will   \n",
       "3  Yes, got both doses of a two-dose vaccine  (Mo...              NaN   \n",
       "4  Yes, got both doses of a two-dose vaccine  (Mo...  Definitely will   \n",
       "\n",
       "     fourth_answer                                     seventh_answer  \n",
       "0  Definitely will                                                NaN  \n",
       "1  Definitely will  Yes, got both doses of a two-dose vaccine (Mod...  \n",
       "2         Not sure                                                NaN  \n",
       "3              NaN  Yes, got both doses of a two-dose vaccine (Mod...  \n",
       "4              NaN                                                NaN  "
      ]
     },
     "execution_count": 7,
     "metadata": {},
     "output_type": "execute_result"
    }
   ],
   "source": [
    "data_df.head()"
   ]
  },
  {
   "cell_type": "code",
   "execution_count": 8,
   "id": "cd56eb31",
   "metadata": {},
   "outputs": [
    {
     "data": {
      "text/plain": [
       "<AxesSubplot:>"
      ]
     },
     "execution_count": 8,
     "metadata": {},
     "output_type": "execute_result"
    },
    {
     "data": {
      "image/png": "[encoded data removed]",
      "text/plain": [
       "<Figure size 1800x720 with 2 Axes>"
      ]
     },
     "metadata": {
      "needs_background": "light"
     },
     "output_type": "display_data"
    }
   ],
   "source": [
    "# Visually, there definitely exists overlap, but it's not super high\n",
    "missingno.matrix(\n",
    "    data_df[[\"sixth_answer\", \"seventh_answer\", \"third_answer\", \"fourth_answer\"]]\n",
    ")"
   ]
  },
  {
   "cell_type": "code",
   "execution_count": 9,
   "id": "a05adf87",
   "metadata": {},
   "outputs": [
    {
     "data": {
      "text/plain": [
       "Yes, got both doses of a two-dose vaccine  (Moderna or Pfizer)    980\n",
       "No, have not gotten the vaccine                                   390\n",
       "Yes, got fully vaccinated plus a booster shot                     259\n",
       "Yes, got the one-dose vaccine (J&J)                               100\n",
       "Yes, got first dose of a two-dose vaccine (Moderna or Pfizer)      80\n",
       "Name: sixth_answer, dtype: int64"
      ]
     },
     "execution_count": 9,
     "metadata": {},
     "output_type": "execute_result"
    }
   ],
   "source": [
    "# Distribution of outcome answer\n",
    "data_df[\"sixth_answer\"].value_counts()"
   ]
  },
  {
   "cell_type": "code",
   "execution_count": 10,
   "id": "095cc7c5",
   "metadata": {},
   "outputs": [
    {
     "data": {
      "text/plain": [
       "Yes, got both doses of a two-dose vaccine (Moderna or Pfizer) plus a booster shot    856\n",
       "No, have not gotten the vaccine                                                      404\n",
       "Yes, got both doses of a two-dose vaccine (Moderna or Pfizer) but no booster         331\n",
       "Yes, got a one-dose vaccine (J&J) plus a booster shot                                 81\n",
       "Yes, got the one-dose vaccine (J&J) but no booster                                    60\n",
       "Yes, got first dose of a two-dose vaccine (Moderna or Pfizer)                         55\n",
       "Yes, got primary series of COVID-19 vaccine not listed here plus a booster shot        9\n",
       "Yes, got primary series of COVID-19 vaccine not listed here                            4\n",
       "Name: seventh_answer, dtype: int64"
      ]
     },
     "execution_count": 10,
     "metadata": {},
     "output_type": "execute_result"
    }
   ],
   "source": [
    "data_df[\"seventh_answer\"].value_counts()"
   ]
  },
  {
   "cell_type": "code",
   "execution_count": 11,
   "id": "aa93fce9",
   "metadata": {},
   "outputs": [
    {
     "data": {
      "text/plain": [
       "<NA>    1624\n",
       "1       1419\n",
       "0        390\n",
       "Name: sixth_answer_num, dtype: Int64"
      ]
     },
     "execution_count": 11,
     "metadata": {},
     "output_type": "execute_result"
    }
   ],
   "source": [
    "# We'll convert any \"Yes\" (including single dose) to 1; else 0\n",
    "data_df[\"sixth_answer_num\"] = (\n",
    "    data_df[\"sixth_answer\"].map(lambda x: 1 if \"Yes\" in x else 0).astype(\"Int64\")\n",
    ")\n",
    "assert (data_df[\"sixth_answer_num\"].isna() == data_df[\"sixth_answer\"].isna()).all()\n",
    "\n",
    "# Sanity check: Matches above\n",
    "data_df[\"sixth_answer_num\"].value_counts(dropna=False)"
   ]
  },
  {
   "cell_type": "code",
   "execution_count": 12,
   "id": "4e64effc",
   "metadata": {},
   "outputs": [
    {
     "data": {
      "text/plain": [
       "<NA>    1633\n",
       "1       1396\n",
       "0        404\n",
       "Name: seventh_answer_num, dtype: Int64"
      ]
     },
     "execution_count": 12,
     "metadata": {},
     "output_type": "execute_result"
    }
   ],
   "source": [
    "# We'll convert any \"Yes\" (including single dose) to 1; else 0\n",
    "data_df[\"seventh_answer_num\"] = (\n",
    "    data_df[\"seventh_answer\"].map(lambda x: 1 if \"Yes\" in x else 0).astype(\"Int64\")\n",
    ")\n",
    "assert (data_df[\"seventh_answer_num\"].isna() == data_df[\"seventh_answer\"].isna()).all()\n",
    "\n",
    "# Sanity check: Matches above\n",
    "data_df[\"seventh_answer_num\"].value_counts(dropna=False)"
   ]
  },
  {
   "cell_type": "code",
   "execution_count": 13,
   "id": "97c931c5",
   "metadata": {},
   "outputs": [
    {
     "data": {
      "text/plain": [
       "NaN                 3294\n",
       "Definitely will       53\n",
       "Maybe will            39\n",
       "Not sure              22\n",
       "Definitely won't      14\n",
       "Maybe won't           11\n",
       "Name: third_answer, dtype: int64"
      ]
     },
     "execution_count": 13,
     "metadata": {},
     "output_type": "execute_result"
    }
   ],
   "source": [
    "# Distribution of third answer; note the very large number of missing\n",
    "data_df[\"third_answer\"].value_counts(dropna=False)"
   ]
  },
  {
   "cell_type": "code",
   "execution_count": 14,
   "id": "173d0406",
   "metadata": {},
   "outputs": [
    {
     "data": {
      "text/plain": [
       "NaN                 3307\n",
       "Definitely will       73\n",
       "Not sure              18\n",
       "Definitely won't      15\n",
       "Maybe will            14\n",
       "Maybe won't            6\n",
       "Name: fourth_answer, dtype: int64"
      ]
     },
     "execution_count": 14,
     "metadata": {},
     "output_type": "execute_result"
    }
   ],
   "source": [
    "# Distribution of fourth answer; note the very large number of missing\n",
    "data_df[\"fourth_answer\"].value_counts(dropna=False)"
   ]
  },
  {
   "cell_type": "code",
   "execution_count": 15,
   "id": "d8de2d6e",
   "metadata": {},
   "outputs": [
    {
     "data": {
      "text/plain": [
       "100"
      ]
     },
     "execution_count": 15,
     "metadata": {},
     "output_type": "execute_result"
    }
   ],
   "source": [
    "# 139 answered 3 + 6; 126 answered 4 + 6; of these 100 answered 3 + 4 + 6\n",
    "both_answer_filter = data_df[\"third_answer\"].notna() & data_df[\"fourth_answer\"].notna()\n",
    "both_answer_filter.sum()"
   ]
  },
  {
   "cell_type": "code",
   "execution_count": 16,
   "id": "8f7e7224",
   "metadata": {},
   "outputs": [
    {
     "data": {
      "text/plain": [
       "100"
      ]
     },
     "execution_count": 16,
     "metadata": {},
     "output_type": "execute_result"
    }
   ],
   "source": [
    "# Note that this is the same number if you only look at people who answered the sixth\n",
    "# survey\n",
    "both_answer_filter = (\n",
    "    data_df[\"third_answer\"].notna()\n",
    "    & data_df[\"fourth_answer\"].notna()\n",
    "    & data_df[\"sixth_answer\"].notna()\n",
    ")\n",
    "both_answer_filter.sum()"
   ]
  },
  {
   "cell_type": "code",
   "execution_count": 17,
   "id": "ae49a311",
   "metadata": {},
   "outputs": [
    {
     "data": {
      "text/plain": [
       "67"
      ]
     },
     "execution_count": 17,
     "metadata": {},
     "output_type": "execute_result"
    }
   ],
   "source": [
    "# And 67 people answered all four\n",
    "both_answer_filter = (\n",
    "    data_df[\"third_answer\"].notna()\n",
    "    & data_df[\"fourth_answer\"].notna()\n",
    "    & data_df[\"seventh_answer\"].notna()\n",
    ")\n",
    "both_answer_filter.sum()"
   ]
  },
  {
   "cell_type": "code",
   "execution_count": 18,
   "id": "7d6df2bc",
   "metadata": {},
   "outputs": [],
   "source": [
    "# Reset back to third/fourth/sixth since it's the superset\n",
    "both_answer_filter = (\n",
    "    data_df[\"third_answer\"].notna()\n",
    "    & data_df[\"fourth_answer\"].notna()\n",
    "    & data_df[\"sixth_answer\"].notna()\n",
    ")"
   ]
  },
  {
   "cell_type": "code",
   "execution_count": 19,
   "id": "12481b12",
   "metadata": {},
   "outputs": [
    {
     "data": {
      "text/plain": [
       "0.58"
      ]
     },
     "execution_count": 19,
     "metadata": {},
     "output_type": "execute_result"
    }
   ],
   "source": [
    "# Reliability: How many people answered 3 and 4 _exactly_ the same\n",
    "(\n",
    "    data_df.loc[both_answer_filter, \"third_answer\"]\n",
    "    == data_df.loc[both_answer_filter, \"fourth_answer\"]\n",
    ").mean()"
   ]
  },
  {
   "cell_type": "code",
   "execution_count": 20,
   "id": "59c62979",
   "metadata": {},
   "outputs": [],
   "source": [
    "# Change labels to values\n",
    "label_to_val = {\n",
    "    \"Definitely will\": 5,\n",
    "    \"Maybe will\": 4,\n",
    "    \"Not sure\": 3,\n",
    "    \"Maybe won't\": 2,\n",
    "    \"Definitely won't\": 1,\n",
    "}\n",
    "\n",
    "for name in [\"third_answer\", \"fourth_answer\"]:\n",
    "    data_df[f\"{name}_num\"] = (\n",
    "        data_df[name].map(label_to_val, na_action=\"ignore\").astype(\"Int64\")\n",
    "    )"
   ]
  },
  {
   "cell_type": "code",
   "execution_count": 21,
   "id": "0591a933",
   "metadata": {},
   "outputs": [
    {
     "data": {
      "text/plain": [
       "0.81"
      ]
     },
     "execution_count": 21,
     "metadata": {},
     "output_type": "execute_result"
    }
   ],
   "source": [
    "# Reliability: How many people said (Def will / Maybe will) or (Not sure / Maybe won't / Def won't) twice\n",
    "(\n",
    "    (data_df.loc[both_answer_filter, \"third_answer_num\"] >= 4)\n",
    "    == (data_df.loc[both_answer_filter, \"fourth_answer_num\"] >= 4)\n",
    ").mean()"
   ]
  },
  {
   "cell_type": "code",
   "execution_count": 22,
   "id": "eaa2ca58",
   "metadata": {},
   "outputs": [
    {
     "data": {
      "text/plain": [
       "0.89"
      ]
     },
     "execution_count": 22,
     "metadata": {},
     "output_type": "execute_result"
    }
   ],
   "source": [
    "# Reliability: How many people said (Def will / Maybe will / Not sure) or (Maybe won't / Def won't) twice\n",
    "\n",
    "(\n",
    "    (data_df.loc[both_answer_filter, \"third_answer_num\"] >= 3)\n",
    "    == (data_df.loc[both_answer_filter, \"fourth_answer_num\"] >= 3)\n",
    ").mean()"
   ]
  },
  {
   "cell_type": "code",
   "execution_count": 23,
   "id": "3f320a85",
   "metadata": {},
   "outputs": [
    {
     "data": {
      "text/plain": [
       "78"
      ]
     },
     "execution_count": 23,
     "metadata": {},
     "output_type": "execute_result"
    }
   ],
   "source": [
    "# Reliability: How many people said (Def will / Maybe will) at least once\n",
    "(\n",
    "    (data_df.loc[both_answer_filter, \"third_answer_num\"] >= 4)\n",
    "    | (data_df.loc[both_answer_filter, \"fourth_answer_num\"] >= 4)\n",
    ").sum()"
   ]
  },
  {
   "cell_type": "code",
   "execution_count": 24,
   "id": "c4d7b274",
   "metadata": {},
   "outputs": [
    {
     "data": {
      "text/plain": [
       "76"
      ]
     },
     "execution_count": 24,
     "metadata": {},
     "output_type": "execute_result"
    }
   ],
   "source": [
    "# Outcome: How many people said (Def will / Maybe will) at least once AND got vaccinated\n",
    "\n",
    "(\n",
    "    (data_df.loc[both_answer_filter, \"sixth_answer_num\"] == 1)\n",
    "    & (\n",
    "        (data_df.loc[both_answer_filter, \"third_answer_num\"] >= 4)\n",
    "        | (data_df.loc[both_answer_filter, \"fourth_answer_num\"] >= 4)\n",
    "    )\n",
    ").sum()"
   ]
  },
  {
   "cell_type": "code",
   "execution_count": 25,
   "id": "37f35b8d",
   "metadata": {},
   "outputs": [
    {
     "data": {
      "text/plain": [
       "22"
      ]
     },
     "execution_count": 25,
     "metadata": {},
     "output_type": "execute_result"
    }
   ],
   "source": [
    "# Reliability: How many people said (Not sure / Maybe wont' / Def won't) twice\n",
    "\n",
    "(\n",
    "    (data_df.loc[both_answer_filter, \"third_answer_num\"] <= 3)\n",
    "    & (data_df.loc[both_answer_filter, \"fourth_answer_num\"] <= 3)\n",
    ").sum()"
   ]
  },
  {
   "cell_type": "code",
   "execution_count": 26,
   "id": "1807ffe8",
   "metadata": {},
   "outputs": [
    {
     "data": {
      "text/plain": [
       "12"
      ]
     },
     "execution_count": 26,
     "metadata": {},
     "output_type": "execute_result"
    }
   ],
   "source": [
    "# Outcome: How many people said (Not sure / Maybe wont' / Def won't) twice AND did NOT get vaccinated\n",
    "\n",
    "(\n",
    "    (data_df.loc[both_answer_filter, \"sixth_answer_num\"] == 0)\n",
    "    & (\n",
    "        (data_df.loc[both_answer_filter, \"third_answer_num\"] <= 3)\n",
    "        & (data_df.loc[both_answer_filter, \"fourth_answer_num\"] <= 3)\n",
    "    )\n",
    ").sum()"
   ]
  },
  {
   "cell_type": "code",
   "execution_count": 27,
   "id": "6c2d8dfa",
   "metadata": {},
   "outputs": [
    {
     "data": {
      "text/plain": [
       "11"
      ]
     },
     "execution_count": 27,
     "metadata": {},
     "output_type": "execute_result"
    }
   ],
   "source": [
    "# Reliability: How many people said (Maybe won't / Def won't) twice\n",
    "\n",
    "(\n",
    "    (data_df.loc[both_answer_filter, \"third_answer_num\"] <= 2)\n",
    "    & (data_df.loc[both_answer_filter, \"fourth_answer_num\"] <= 2)\n",
    ").sum()"
   ]
  },
  {
   "cell_type": "code",
   "execution_count": 28,
   "id": "5ce80bff",
   "metadata": {},
   "outputs": [
    {
     "data": {
      "text/plain": [
       "9"
      ]
     },
     "execution_count": 28,
     "metadata": {},
     "output_type": "execute_result"
    }
   ],
   "source": [
    "# Outcome: How many people said (Maybe won't / Def won't) twice AND did NOT get vaccinated\n",
    "\n",
    "(\n",
    "    (data_df.loc[both_answer_filter, \"sixth_answer_num\"] == 0)\n",
    "    & (\n",
    "        (data_df.loc[both_answer_filter, \"third_answer_num\"] <= 2)\n",
    "        & (data_df.loc[both_answer_filter, \"fourth_answer_num\"] <= 2)\n",
    "    )\n",
    ").sum()"
   ]
  },
  {
   "cell_type": "code",
   "execution_count": 29,
   "id": "cc3c4abc",
   "metadata": {},
   "outputs": [
    {
     "data": {
      "text/plain": [
       "0.9715909090909091"
      ]
     },
     "execution_count": 29,
     "metadata": {},
     "output_type": "execute_result"
    }
   ],
   "source": [
    "# Among people who answered the sixth and seventh surveys, do their answers match? No. But almost always\n",
    "tmp_df = data_df[\n",
    "    data_df[\"sixth_answer_num\"].notna() & data_df[\"seventh_answer_num\"].notna()\n",
    "]\n",
    "(tmp_df[\"sixth_answer_num\"] == tmp_df[\"seventh_answer_num\"]).mean()"
   ]
  },
  {
   "cell_type": "code",
   "execution_count": 30,
   "id": "10ea02f5",
   "metadata": {},
   "outputs": [
    {
     "data": {
      "text/plain": [
       "0.9943181818181818"
      ]
     },
     "execution_count": 30,
     "metadata": {},
     "output_type": "execute_result"
    }
   ],
   "source": [
    "# Do they at least always increase? I.e., go from unvax to vax? No. But once again almost all\n",
    "tmp_df = data_df[\n",
    "    data_df[\"sixth_answer_num\"].notna() & data_df[\"seventh_answer_num\"].notna()\n",
    "]\n",
    "(tmp_df[\"sixth_answer_num\"] <= tmp_df[\"seventh_answer_num\"]).mean()"
   ]
  },
  {
   "cell_type": "code",
   "execution_count": 31,
   "id": "cefb056b",
   "metadata": {},
   "outputs": [
    {
     "data": {
      "text/html": [
       "<div>\n",
       "<style scoped>\n",
       "    .dataframe tbody tr th:only-of-type {\n",
       "        vertical-align: middle;\n",
       "    }\n",
       "\n",
       "    .dataframe tbody tr th {\n",
       "        vertical-align: top;\n",
       "    }\n",
       "\n",
       "    .dataframe thead th {\n",
       "        text-align: right;\n",
       "    }\n",
       "</style>\n",
       "<table border=\"1\" class=\"dataframe\">\n",
       "  <thead>\n",
       "    <tr style=\"text-align: right;\">\n",
       "      <th></th>\n",
       "      <th>caseid_19</th>\n",
       "      <th>caseid_15</th>\n",
       "      <th>caseid_16</th>\n",
       "      <th>caseid_17</th>\n",
       "      <th>caseid_20</th>\n",
       "      <th>sixth_answer</th>\n",
       "      <th>third_answer</th>\n",
       "      <th>fourth_answer</th>\n",
       "      <th>seventh_answer</th>\n",
       "      <th>sixth_answer_num</th>\n",
       "      <th>seventh_answer_num</th>\n",
       "      <th>third_answer_num</th>\n",
       "      <th>fourth_answer_num</th>\n",
       "    </tr>\n",
       "  </thead>\n",
       "  <tbody>\n",
       "    <tr>\n",
       "      <th>1216</th>\n",
       "      <td>1618955829</td>\n",
       "      <td>&lt;NA&gt;</td>\n",
       "      <td>&lt;NA&gt;</td>\n",
       "      <td>&lt;NA&gt;</td>\n",
       "      <td>1726264187</td>\n",
       "      <td>Yes, got both doses of a two-dose vaccine  (Mo...</td>\n",
       "      <td>NaN</td>\n",
       "      <td>NaN</td>\n",
       "      <td>No, have not gotten the vaccine</td>\n",
       "      <td>1</td>\n",
       "      <td>0</td>\n",
       "      <td>&lt;NA&gt;</td>\n",
       "      <td>&lt;NA&gt;</td>\n",
       "    </tr>\n",
       "  </tbody>\n",
       "</table>\n",
       "</div>"
      ],
      "text/plain": [
       "       caseid_19  caseid_15  caseid_16  caseid_17   caseid_20  \\\n",
       "1216  1618955829       <NA>       <NA>       <NA>  1726264187   \n",
       "\n",
       "                                           sixth_answer third_answer  \\\n",
       "1216  Yes, got both doses of a two-dose vaccine  (Mo...          NaN   \n",
       "\n",
       "     fourth_answer                   seventh_answer  sixth_answer_num  \\\n",
       "1216           NaN  No, have not gotten the vaccine                 1   \n",
       "\n",
       "      seventh_answer_num  third_answer_num  fourth_answer_num  \n",
       "1216                   0              <NA>               <NA>  "
      ]
     },
     "execution_count": 31,
     "metadata": {},
     "output_type": "execute_result"
    }
   ],
   "source": [
    "# Only one person did not increase. This person didn't answer surveys three or four, so\n",
    "# shouldn't really affect our further analysis\n",
    "tmp_df = data_df[\n",
    "    data_df[\"sixth_answer_num\"].notna() & data_df[\"seventh_answer_num\"].notna()\n",
    "]\n",
    "tmp_df[tmp_df[\"sixth_answer_num\"] > tmp_df[\"seventh_answer_num\"]]"
   ]
  },
  {
   "cell_type": "code",
   "execution_count": 32,
   "id": "08a7f058",
   "metadata": {},
   "outputs": [],
   "source": [
    "# Take as our IV of interest, people's _last in time_ answer about their intentions\n",
    "data_df[\"combined_intention_answer\"] = data_df[\"fourth_answer_num\"].fillna(\n",
    "    data_df[\"third_answer_num\"]\n",
    ")\n",
    "\n",
    "# Take as our DV of interest people's _max_ vaccination status\n",
    "data_df[\"combined_action_answer\"] = data_df[\n",
    "    [\"sixth_answer_num\", \"seventh_answer_num\"]\n",
    "].max(axis=1)\n",
    "\n",
    "final_df = data_df[data_df[\"combined_intention_answer\"].notna()]"
   ]
  },
  {
   "cell_type": "code",
   "execution_count": 33,
   "id": "cd98b5a4",
   "metadata": {},
   "outputs": [
    {
     "data": {
      "text/plain": [
       "(0.9910714285714286, 112)"
      ]
     },
     "execution_count": 33,
     "metadata": {},
     "output_type": "execute_result"
    }
   ],
   "source": [
    "# Main outcome: How many people said they (Def will / Maybe will) get vaccinated and DID get vaccinated\n",
    "just_will = final_df[final_df[\"combined_intention_answer\"] >= 4]\n",
    "just_will[\"combined_action_answer\"].mean(), len(just_will)"
   ]
  },
  {
   "cell_type": "code",
   "execution_count": 34,
   "id": "d1e2c9db",
   "metadata": {},
   "outputs": [
    {
     "data": {
      "text/plain": [
       "(0.5806451612903225, 31)"
      ]
     },
     "execution_count": 34,
     "metadata": {},
     "output_type": "execute_result"
    }
   ],
   "source": [
    "# Main outcome: How many people said they (Def won't / Maybe won't) get vaccinated and DID NOT get vaccinated\n",
    "just_will = final_df[final_df[\"combined_intention_answer\"] <= 2]\n",
    "(1 - just_will[\"combined_action_answer\"].mean()), len(just_will)"
   ]
  },
  {
   "cell_type": "markdown",
   "id": "bf2e2260",
   "metadata": {},
   "source": [
    "### Demographics"
   ]
  },
  {
   "cell_type": "code",
   "execution_count": 35,
   "id": "a4b03a65",
   "metadata": {},
   "outputs": [],
   "source": [
    "just_36_df = id_df[id_df[[\"caseid_15\", \"caseid_19\"]].notna().all(axis=1)]\n",
    "just_46_df = id_df[id_df[[\"caseid_16\", \"caseid_19\"]].notna().all(axis=1)]"
   ]
  },
  {
   "cell_type": "code",
   "execution_count": 36,
   "id": "1f344d01",
   "metadata": {},
   "outputs": [
    {
     "data": {
      "text/plain": [
       "165"
      ]
     },
     "execution_count": 36,
     "metadata": {},
     "output_type": "execute_result"
    }
   ],
   "source": [
    "demo_concat = pd.concat([just_36_df, just_46_df])\n",
    "demo_df = pd.concat([pd.read_spss(spec.filename) for spec in base_specs])\n",
    "demo_df = demo_df[demo_df[\"caseid\"].isin(demo_concat[\"caseid_19\"].values)]\n",
    "len(demo_df)"
   ]
  },
  {
   "cell_type": "code",
   "execution_count": 37,
   "id": "3682dfb9",
   "metadata": {},
   "outputs": [
    {
     "data": {
      "text/plain": [
       "(40, 65]     80\n",
       "(65, 120]    61\n",
       "(25, 40]     20\n",
       "(18, 25]      4\n",
       "(0, 18]       0\n",
       "Name: birthyr, dtype: int64"
      ]
     },
     "execution_count": 37,
     "metadata": {},
     "output_type": "execute_result"
    }
   ],
   "source": [
    "# Age\n",
    "\n",
    "df_ages = 2021 - demo_df.birthyr\n",
    "ages_range = pd.cut(df_ages, bins=[0, 18, 25, 40, 65, 120])\n",
    "ages_range.value_counts()"
   ]
  },
  {
   "cell_type": "code",
   "execution_count": 38,
   "id": "50b9f04c",
   "metadata": {},
   "outputs": [
    {
     "data": {
      "text/plain": [
       "58.096969696969694"
      ]
     },
     "execution_count": 38,
     "metadata": {},
     "output_type": "execute_result"
    }
   ],
   "source": [
    "# Age Mean\n",
    "\n",
    "df_ages.mean()"
   ]
  },
  {
   "cell_type": "code",
   "execution_count": 39,
   "id": "da84fbb8",
   "metadata": {},
   "outputs": [
    {
     "data": {
      "text/plain": [
       "Female    88\n",
       "Male      77\n",
       "Name: gender, dtype: int64"
      ]
     },
     "execution_count": 39,
     "metadata": {},
     "output_type": "execute_result"
    }
   ],
   "source": [
    "# Gender\n",
    "\n",
    "demo_df.gender.value_counts()"
   ]
  },
  {
   "cell_type": "code",
   "execution_count": 40,
   "id": "ec0552a7",
   "metadata": {},
   "outputs": [
    {
     "data": {
      "text/plain": [
       "White                142\n",
       "Hispanic               8\n",
       "Other                  8\n",
       "Black                  5\n",
       "Asian                  1\n",
       "Two or more races      1\n",
       "Middle Eastern         0\n",
       "Native American        0\n",
       "Name: race, dtype: int64"
      ]
     },
     "execution_count": 40,
     "metadata": {},
     "output_type": "execute_result"
    }
   ],
   "source": [
    "# Race\n",
    "\n",
    "demo_df.race.value_counts()"
   ]
  },
  {
   "cell_type": "code",
   "execution_count": 41,
   "id": "e1207a42",
   "metadata": {},
   "outputs": [
    {
     "data": {
      "text/plain": [
       "4-year                  46\n",
       "High school graduate    35\n",
       "Post-grad               32\n",
       "Some college            32\n",
       "2-year                  19\n",
       "No HS                    1\n",
       "Name: educ, dtype: int64"
      ]
     },
     "execution_count": 41,
     "metadata": {},
     "output_type": "execute_result"
    }
   ],
   "source": [
    "# Education\n",
    "\n",
    "demo_df.educ.value_counts()"
   ]
  },
  {
   "cell_type": "code",
   "execution_count": 42,
   "id": "1bc51719",
   "metadata": {},
   "outputs": [
    {
     "data": {
      "text/plain": [
       "Rhode Island      155\n",
       "Pennsylvania        2\n",
       "North Carolina      1\n",
       "Mississippi         1\n",
       "Wisconsin           1\n",
       "Florida             1\n",
       "Washington          1\n",
       "New York            1\n",
       "Oregon              1\n",
       "California          1\n",
       "Name: inputstate, dtype: int64"
      ]
     },
     "execution_count": 42,
     "metadata": {},
     "output_type": "execute_result"
    }
   ],
   "source": [
    "# State\n",
    "\n",
    "demo_df.inputstate.value_counts()"
   ]
  },
  {
   "cell_type": "markdown",
   "id": "41cec7b9",
   "metadata": {},
   "source": [
    "#### Visual Plots"
   ]
  },
  {
   "cell_type": "code",
   "execution_count": 43,
   "id": "4c1bb8e3",
   "metadata": {},
   "outputs": [],
   "source": [
    "# Plot data\n",
    "## tr = translation rate; prop = proportion\n",
    "\n",
    "plot_data = {\n",
    "    \"Authors\": [\n",
    "        \"Lehmann\",\n",
    "        \"Ye\",\n",
    "        \"Rodas\",\n",
    "        \"Liao\",\n",
    "        \"Wang\",\n",
    "        \"Kirzinger\",\n",
    "        \"Evans\",\n",
    "        \"Campos-Mercade\",\n",
    "    ],\n",
    "    \"Location\": [\n",
    "        \"Netherlands\",\n",
    "        \"China\",\n",
    "        \"Hong Kong\",\n",
    "        \"Hong Kong\",\n",
    "        \"China\",\n",
    "        \"United States\",\n",
    "        \"United States\",\n",
    "        \"Sweden\",\n",
    "    ],\n",
    "    \"Disease\": [\n",
    "        \"Influenza\",\n",
    "        \"Influenza\",\n",
    "        \"H1N1\",\n",
    "        \"H1N1\",\n",
    "        \"COVID\",\n",
    "        \"COVID\",\n",
    "        \"COVID\",\n",
    "        \"COVID\",\n",
    "    ],\n",
    "    \"tr_pos_int\": [73.90, 16.87, 7.89, 5.97, 81.8, 92.0, np.NaN, np.NaN],\n",
    "    \"tr_neg_int\": [1.30, 0.00, np.NaN, np.NaN, 61.3, 24.0, 59.7, np.NaN],\n",
    "    \"prop_pos_int\": [75.56, 99.33, np.NaN, 57.14, 91.84, 47.0, np.NaN, np.NaN],\n",
    "    \"prop_neg_int\": [3.33, 0.00, np.NaN, np.NaN, 8.15, 5.0, np.NaN, np.NaN],\n",
    "}\n",
    "plot_df = pd.DataFrame(data=plot_data)"
   ]
  },
  {
   "cell_type": "code",
   "execution_count": 44,
   "id": "db0e2b4e",
   "metadata": {},
   "outputs": [],
   "source": [
    "tr_plot_df = pd.melt(\n",
    "    plot_df, id_vars=[\"Disease\"], value_vars=[\"tr_pos_int\", \"tr_neg_int\"]\n",
    ")"
   ]
  },
  {
   "cell_type": "code",
   "execution_count": 45,
   "id": "2220fc4c",
   "metadata": {},
   "outputs": [
    {
     "data": {
      "text/plain": [
       "[Text(0.5, 1.0, 'Proportion of Vaccinated Respondents by Disease')]"
      ]
     },
     "execution_count": 45,
     "metadata": {},
     "output_type": "execute_result"
    },
    {
     "data": {
      "image/png": "[encoded data removed]",
      "text/plain": [
       "<Figure size 1000x500 with 1 Axes>"
      ]
     },
     "metadata": {
      "needs_background": "light"
     },
     "output_type": "display_data"
    }
   ],
   "source": [
    "# Translation rate plot (of those who intended, how many were vaccinated)\n",
    "\n",
    "fig, ax = plt.subplots(figsize=(10, 5), dpi=100)\n",
    "\n",
    "plot = sns.boxplot(data=tr_plot_df, x=\"Disease\", y=\"value\")\n",
    "\n",
    "ax.set(ylabel=\"Percent Vaccinated\")\n",
    "ax.set(title=\"Proportion of Vaccinated Respondents by Disease (Translation Rate)\")"
   ]
  },
  {
   "cell_type": "code",
   "execution_count": 46,
   "id": "2a702b5e",
   "metadata": {},
   "outputs": [],
   "source": [
    "prop_plot_df = pd.melt(\n",
    "    plot_df, id_vars=[\"Disease\"], value_vars=[\"prop_pos_int\", \"prop_neg_int\"]\n",
    ")"
   ]
  },
  {
   "cell_type": "code",
   "execution_count": 47,
   "id": "08cee9bd",
   "metadata": {},
   "outputs": [
    {
     "data": {
      "text/plain": [
       "[Text(0.5, 1.0, 'Proportion of Vaccinated Respondents by Disease')]"
      ]
     },
     "execution_count": 47,
     "metadata": {},
     "output_type": "execute_result"
    },
    {
     "data": {
      "image/png": "[encoded data removed]",
      "text/plain": [
       "<Figure size 1000x500 with 1 Axes>"
      ]
     },
     "metadata": {
      "needs_background": "light"
     },
     "output_type": "display_data"
    }
   ],
   "source": [
    "# Proportion plot (of those vaccinated, how many intended)\n",
    "\n",
    "fig, ax = plt.subplots(figsize=(10, 5), dpi=100)\n",
    "\n",
    "plot = sns.boxplot(data=prop_plot_df, x=\"Disease\", y=\"value\")\n",
    "\n",
    "ax.set(ylabel=\"Percent Vaccinated\")\n",
    "ax.set(title=\"Proportion of Vaccinated Respondents by Disease\")"
   ]
  },
  {
   "cell_type": "code",
   "execution_count": null,
   "id": "f8db2359",
   "metadata": {},
   "outputs": [],
   "source": []
  }
 ],
 "metadata": {
  "kernelspec": {
   "display_name": "Python 3 (ipykernel)",
   "language": "python",
   "name": "python3"
  },
  "language_info": {
   "codemirror_mode": {
    "name": "ipython",
    "version": 3
   },
   "file_extension": ".py",
   "mimetype": "text/x-python",
   "name": "python",
   "nbconvert_exporter": "python",
   "pygments_lexer": "ipython3",
   "version": "3.8.6"
  }
 },
 "nbformat": 4,
 "nbformat_minor": 5
}
